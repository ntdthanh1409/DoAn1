{
 "cells": [
  {
   "cell_type": "code",
   "execution_count": 1,
   "metadata": {},
   "outputs": [],
   "source": [
    "from datetime import datetime\n",
    "import pandas as pd\n",
    "import numpy as np\n",
    "import seaborn as sns\n",
    "import matplotlib.pyplot as plt"
   ]
  },
  {
   "cell_type": "markdown",
   "metadata": {},
   "source": [
    "## Phân tích dựa vào biểu đồ số lượng bình luận"
   ]
  },
  {
   "cell_type": "code",
   "execution_count": 7,
   "metadata": {},
   "outputs": [
    {
     "data": {
      "text/html": [
       "<div>\n",
       "<style scoped>\n",
       "    .dataframe tbody tr th:only-of-type {\n",
       "        vertical-align: middle;\n",
       "    }\n",
       "\n",
       "    .dataframe tbody tr th {\n",
       "        vertical-align: top;\n",
       "    }\n",
       "\n",
       "    .dataframe thead th {\n",
       "        text-align: right;\n",
       "    }\n",
       "</style>\n",
       "<table border=\"1\" class=\"dataframe\">\n",
       "  <thead>\n",
       "    <tr style=\"text-align: right;\">\n",
       "      <th></th>\n",
       "      <th>HComment</th>\n",
       "      <th>HCommenter</th>\n",
       "      <th>HContribute</th>\n",
       "      <th>HDate</th>\n",
       "      <th>HThanks</th>\n",
       "      <th>HTime</th>\n",
       "      <th>HTravelType</th>\n",
       "      <th>HTravelerRating</th>\n",
       "      <th>h_Hotel_name</th>\n",
       "      <th>h_reviewer_address</th>\n",
       "      <th>h_reviewer_id</th>\n",
       "      <th>h_title_comment</th>\n",
       "      <th>h_url</th>\n",
       "    </tr>\n",
       "  </thead>\n",
       "  <tbody>\n",
       "    <tr>\n",
       "      <th>0</th>\n",
       "      <td>NaN</td>\n",
       "      <td>NaN</td>\n",
       "      <td>NaN</td>\n",
       "      <td>NaN</td>\n",
       "      <td>NaN</td>\n",
       "      <td>NaN</td>\n",
       "      <td>NaN</td>\n",
       "      <td>NaN</td>\n",
       "      <td>NaN</td>\n",
       "      <td>NaN</td>\n",
       "      <td>NaN</td>\n",
       "      <td>NaN</td>\n",
       "      <td>https://www.tripadvisor.com.vn/Hotel_Review-g2...</td>\n",
       "    </tr>\n",
       "    <tr>\n",
       "      <th>1</th>\n",
       "      <td>KS Melia Hà nội nhìn chung có dịch vụ hoàn hảo...</td>\n",
       "      <td>nguyenthuhu0ng</td>\n",
       "      <td>1.0</td>\n",
       "      <td>tháng 1 năm 2021</td>\n",
       "      <td>2.0</td>\n",
       "      <td>thg 1 2021</td>\n",
       "      <td>NaN</td>\n",
       "      <td>50.0</td>\n",
       "      <td>Melia Hà Nội</td>\n",
       "      <td>Thành phố Hồ Chí Minh, Việt Nam</td>\n",
       "      <td>https://www.tripadvisor.com.vn/Profile/nguyent...</td>\n",
       "      <td>Excellent</td>\n",
       "      <td>https://www.tripadvisor.com.vn/Hotel_Review-g2...</td>\n",
       "    </tr>\n",
       "    <tr>\n",
       "      <th>2</th>\n",
       "      <td>NaN</td>\n",
       "      <td>NaN</td>\n",
       "      <td>NaN</td>\n",
       "      <td>NaN</td>\n",
       "      <td>NaN</td>\n",
       "      <td>NaN</td>\n",
       "      <td>NaN</td>\n",
       "      <td>NaN</td>\n",
       "      <td>NaN</td>\n",
       "      <td>NaN</td>\n",
       "      <td>NaN</td>\n",
       "      <td>NaN</td>\n",
       "      <td>https://www.tripadvisor.com.vn/Hotel_Review-g2...</td>\n",
       "    </tr>\n",
       "    <tr>\n",
       "      <th>3</th>\n",
       "      <td>Rất sạch, nhân viên lịch sự, thân thiện. Khách...</td>\n",
       "      <td>chung43</td>\n",
       "      <td>1.0</td>\n",
       "      <td>tháng 1 năm 2020</td>\n",
       "      <td>2.0</td>\n",
       "      <td>thg 1 2020</td>\n",
       "      <td>NaN</td>\n",
       "      <td>50.0</td>\n",
       "      <td>Melia Hà Nội</td>\n",
       "      <td>Thành phố Hồ Chí Minh, Việt Nam</td>\n",
       "      <td>https://www.tripadvisor.com.vn/Profile/chung43</td>\n",
       "      <td>TS.BS. Nguyễn Hữu Chung</td>\n",
       "      <td>https://www.tripadvisor.com.vn/Hotel_Review-g2...</td>\n",
       "    </tr>\n",
       "    <tr>\n",
       "      <th>4</th>\n",
       "      <td>9:58 AM 13/11/2021 Tôi có gọi book bàn ăn tại ...</td>\n",
       "      <td>Nguyễn Tuấn Hải</td>\n",
       "      <td>1.0</td>\n",
       "      <td>tháng 11 năm 2021</td>\n",
       "      <td>NaN</td>\n",
       "      <td>thg 11 2021</td>\n",
       "      <td>NaN</td>\n",
       "      <td>10.0</td>\n",
       "      <td>JW Marriott Hotel Hanoi</td>\n",
       "      <td>NaN</td>\n",
       "      <td>https://www.tripadvisor.com.vn/Profile/HAI1909</td>\n",
       "      <td>Lễ Tân thiếu chuyên nghiệp</td>\n",
       "      <td>https://www.tripadvisor.com.vn/Hotel_Review-g2...</td>\n",
       "    </tr>\n",
       "    <tr>\n",
       "      <th>...</th>\n",
       "      <td>...</td>\n",
       "      <td>...</td>\n",
       "      <td>...</td>\n",
       "      <td>...</td>\n",
       "      <td>...</td>\n",
       "      <td>...</td>\n",
       "      <td>...</td>\n",
       "      <td>...</td>\n",
       "      <td>...</td>\n",
       "      <td>...</td>\n",
       "      <td>...</td>\n",
       "      <td>...</td>\n",
       "      <td>...</td>\n",
       "    </tr>\n",
       "    <tr>\n",
       "      <th>10734</th>\n",
       "      <td>Amazing! I really like hotel. New hotel, clean...</td>\n",
       "      <td>Bằng</td>\n",
       "      <td>1.0</td>\n",
       "      <td>tháng 11 năm 2020</td>\n",
       "      <td>NaN</td>\n",
       "      <td>đã viết đánh giá vào thg 11 2020</td>\n",
       "      <td>NaN</td>\n",
       "      <td>50.0</td>\n",
       "      <td>Mina Hotel &amp; Spa</td>\n",
       "      <td>NaN</td>\n",
       "      <td>https://www.tripadvisor.com.vn/Profile/Bang_Peach</td>\n",
       "      <td>Kì nghỉ tuyệt vời!\\r\\nWonderful vacation</td>\n",
       "      <td>https://www.tripadvisor.com.vn/Hotel_Review-g2...</td>\n",
       "    </tr>\n",
       "    <tr>\n",
       "      <th>10735</th>\n",
       "      <td>NaN</td>\n",
       "      <td>NaN</td>\n",
       "      <td>NaN</td>\n",
       "      <td>NaN</td>\n",
       "      <td>NaN</td>\n",
       "      <td>NaN</td>\n",
       "      <td>NaN</td>\n",
       "      <td>NaN</td>\n",
       "      <td>NaN</td>\n",
       "      <td>NaN</td>\n",
       "      <td>NaN</td>\n",
       "      <td>NaN</td>\n",
       "      <td>https://www.tripadvisor.com.vn/Hotel_Review-g2...</td>\n",
       "    </tr>\n",
       "    <tr>\n",
       "      <th>10736</th>\n",
       "      <td>NaN</td>\n",
       "      <td>NaN</td>\n",
       "      <td>NaN</td>\n",
       "      <td>NaN</td>\n",
       "      <td>NaN</td>\n",
       "      <td>NaN</td>\n",
       "      <td>NaN</td>\n",
       "      <td>NaN</td>\n",
       "      <td>NaN</td>\n",
       "      <td>NaN</td>\n",
       "      <td>NaN</td>\n",
       "      <td>NaN</td>\n",
       "      <td>https://www.tripadvisor.com.vn/Hotel_Review-g2...</td>\n",
       "    </tr>\n",
       "    <tr>\n",
       "      <th>10737</th>\n",
       "      <td>NaN</td>\n",
       "      <td>NaN</td>\n",
       "      <td>NaN</td>\n",
       "      <td>NaN</td>\n",
       "      <td>NaN</td>\n",
       "      <td>NaN</td>\n",
       "      <td>NaN</td>\n",
       "      <td>NaN</td>\n",
       "      <td>NaN</td>\n",
       "      <td>NaN</td>\n",
       "      <td>NaN</td>\n",
       "      <td>NaN</td>\n",
       "      <td>https://www.tripadvisor.com.vn/Hotel_Review-g2...</td>\n",
       "    </tr>\n",
       "    <tr>\n",
       "      <th>10738</th>\n",
       "      <td>Danh thiếp nói Silver Legend Hotel. Đêm cuối c...</td>\n",
       "      <td>RoryE</td>\n",
       "      <td>520.0</td>\n",
       "      <td>tháng 4 năm 2017</td>\n",
       "      <td>103.0</td>\n",
       "      <td>đã viết đánh giá vào thg 5 2017</td>\n",
       "      <td>NaN</td>\n",
       "      <td>40.0</td>\n",
       "      <td>Khách sạn Silver Hà Nội</td>\n",
       "      <td>Wandong, Úc</td>\n",
       "      <td>https://www.tripadvisor.com.vn/Profile/RoryE</td>\n",
       "      <td>Đơn giản &amp; thuận tiện</td>\n",
       "      <td>https://www.tripadvisor.com.vn/Hotel_Review-g2...</td>\n",
       "    </tr>\n",
       "  </tbody>\n",
       "</table>\n",
       "<p>10739 rows × 13 columns</p>\n",
       "</div>"
      ],
      "text/plain": [
       "                                                HComment       HCommenter  \\\n",
       "0                                                    NaN              NaN   \n",
       "1      KS Melia Hà nội nhìn chung có dịch vụ hoàn hảo...   nguyenthuhu0ng   \n",
       "2                                                    NaN              NaN   \n",
       "3      Rất sạch, nhân viên lịch sự, thân thiện. Khách...          chung43   \n",
       "4      9:58 AM 13/11/2021 Tôi có gọi book bàn ăn tại ...  Nguyễn Tuấn Hải   \n",
       "...                                                  ...              ...   \n",
       "10734  Amazing! I really like hotel. New hotel, clean...             Bằng   \n",
       "10735                                                NaN              NaN   \n",
       "10736                                                NaN              NaN   \n",
       "10737                                                NaN              NaN   \n",
       "10738  Danh thiếp nói Silver Legend Hotel. Đêm cuối c...            RoryE   \n",
       "\n",
       "       HContribute               HDate  HThanks  \\\n",
       "0              NaN                 NaN      NaN   \n",
       "1              1.0    tháng 1 năm 2021      2.0   \n",
       "2              NaN                 NaN      NaN   \n",
       "3              1.0    tháng 1 năm 2020      2.0   \n",
       "4              1.0   tháng 11 năm 2021      NaN   \n",
       "...            ...                 ...      ...   \n",
       "10734          1.0   tháng 11 năm 2020      NaN   \n",
       "10735          NaN                 NaN      NaN   \n",
       "10736          NaN                 NaN      NaN   \n",
       "10737          NaN                 NaN      NaN   \n",
       "10738        520.0    tháng 4 năm 2017    103.0   \n",
       "\n",
       "                                   HTime HTravelType  HTravelerRating  \\\n",
       "0                                    NaN         NaN              NaN   \n",
       "1                             thg 1 2021         NaN             50.0   \n",
       "2                                    NaN         NaN              NaN   \n",
       "3                             thg 1 2020         NaN             50.0   \n",
       "4                            thg 11 2021         NaN             10.0   \n",
       "...                                  ...         ...              ...   \n",
       "10734   đã viết đánh giá vào thg 11 2020         NaN             50.0   \n",
       "10735                                NaN         NaN              NaN   \n",
       "10736                                NaN         NaN              NaN   \n",
       "10737                                NaN         NaN              NaN   \n",
       "10738    đã viết đánh giá vào thg 5 2017         NaN             40.0   \n",
       "\n",
       "                      h_Hotel_name               h_reviewer_address  \\\n",
       "0                              NaN                              NaN   \n",
       "1                   Melia Hà Nội  Thành phố Hồ Chí Minh, Việt Nam   \n",
       "2                              NaN                              NaN   \n",
       "3                   Melia Hà Nội  Thành phố Hồ Chí Minh, Việt Nam   \n",
       "4          JW Marriott Hotel Hanoi                              NaN   \n",
       "...                            ...                              ...   \n",
       "10734             Mina Hotel & Spa                              NaN   \n",
       "10735                          NaN                              NaN   \n",
       "10736                          NaN                              NaN   \n",
       "10737                          NaN                              NaN   \n",
       "10738  Khách sạn Silver Hà Nội                      Wandong, Úc   \n",
       "\n",
       "                                           h_reviewer_id  \\\n",
       "0                                                    NaN   \n",
       "1      https://www.tripadvisor.com.vn/Profile/nguyent...   \n",
       "2                                                    NaN   \n",
       "3         https://www.tripadvisor.com.vn/Profile/chung43   \n",
       "4         https://www.tripadvisor.com.vn/Profile/HAI1909   \n",
       "...                                                  ...   \n",
       "10734  https://www.tripadvisor.com.vn/Profile/Bang_Peach   \n",
       "10735                                                NaN   \n",
       "10736                                                NaN   \n",
       "10737                                                NaN   \n",
       "10738       https://www.tripadvisor.com.vn/Profile/RoryE   \n",
       "\n",
       "                                h_title_comment  \\\n",
       "0                                           NaN   \n",
       "1                                     Excellent   \n",
       "2                                           NaN   \n",
       "3                       TS.BS. Nguyễn Hữu Chung   \n",
       "4                    Lễ Tân thiếu chuyên nghiệp   \n",
       "...                                         ...   \n",
       "10734  Kì nghỉ tuyệt vời!\\r\\nWonderful vacation   \n",
       "10735                                       NaN   \n",
       "10736                                       NaN   \n",
       "10737                                       NaN   \n",
       "10738                     Đơn giản & thuận tiện   \n",
       "\n",
       "                                                   h_url  \n",
       "0      https://www.tripadvisor.com.vn/Hotel_Review-g2...  \n",
       "1      https://www.tripadvisor.com.vn/Hotel_Review-g2...  \n",
       "2      https://www.tripadvisor.com.vn/Hotel_Review-g2...  \n",
       "3      https://www.tripadvisor.com.vn/Hotel_Review-g2...  \n",
       "4      https://www.tripadvisor.com.vn/Hotel_Review-g2...  \n",
       "...                                                  ...  \n",
       "10734  https://www.tripadvisor.com.vn/Hotel_Review-g2...  \n",
       "10735  https://www.tripadvisor.com.vn/Hotel_Review-g2...  \n",
       "10736  https://www.tripadvisor.com.vn/Hotel_Review-g2...  \n",
       "10737  https://www.tripadvisor.com.vn/Hotel_Review-g2...  \n",
       "10738  https://www.tripadvisor.com.vn/Hotel_Review-g2...  \n",
       "\n",
       "[10739 rows x 13 columns]"
      ]
     },
     "execution_count": 7,
     "metadata": {},
     "output_type": "execute_result"
    }
   ],
   "source": [
    "df_cmt = pd.read_csv('Hanoi_cmt_Viet.csv')\n",
    "df_cmt"
   ]
  },
  {
   "cell_type": "code",
   "execution_count": 8,
   "metadata": {},
   "outputs": [
    {
     "data": {
      "text/plain": [
       "0            NaN\n",
       "1         1/2021\n",
       "2            NaN\n",
       "3         1/2020\n",
       "4        11/2021\n",
       "          ...   \n",
       "10734    11/2020\n",
       "10735        NaN\n",
       "10736        NaN\n",
       "10737        NaN\n",
       "10738     5/2017\n",
       "Name: HTime_new, Length: 10739, dtype: object"
      ]
     },
     "execution_count": 8,
     "metadata": {},
     "output_type": "execute_result"
    }
   ],
   "source": [
    "# Chuyển từ \"thg x xxxx\" sang \"x/xxxx\"\n",
    "df_cmt['HTime_new'] = df_cmt['HTime'].str.replace(r' đã viết đánh giá vào thg ','')\n",
    "df_cmt['HTime_new'] = df_cmt['HTime_new'].str.replace(r'thg ','')\n",
    "df_cmt['HTime_new'] = df_cmt['HTime_new'].str.replace(r' ','/')\n",
    "df_cmt['HTime_new'] = df_cmt['HTime_new'].str.replace(r'/đã/viết/đánh/giá/vào/','')\n",
    "df_cmt['HTime_new']"
   ]
  },
  {
   "cell_type": "code",
   "execution_count": 9,
   "metadata": {},
   "outputs": [],
   "source": [
    "# Xóa những dữ liệu thiếu\n",
    "x = df_cmt['HTime_new'].dropna() "
   ]
  },
  {
   "cell_type": "code",
   "execution_count": 12,
   "metadata": {},
   "outputs": [
    {
     "data": {
      "text/plain": [
       "0      2021-01-01\n",
       "1      2020-01-01\n",
       "2      2021-11-01\n",
       "3      2019-05-01\n",
       "4      2021-10-01\n",
       "          ...    \n",
       "7865   2021-01-01\n",
       "7866   2019-11-01\n",
       "7867   2020-12-01\n",
       "7868   2020-11-01\n",
       "7869   2017-05-01\n",
       "Name: Time, Length: 7870, dtype: datetime64[ns]"
      ]
     },
     "execution_count": 12,
     "metadata": {},
     "output_type": "execute_result"
    }
   ],
   "source": [
    "# Chuyển các biến str sang dạng date\n",
    "a = []\n",
    "for i in range(len(x)):\n",
    "    try: \n",
    "        b = datetime.strptime(x.iloc[i],'%m/%Y')\n",
    "        a.append(b)\n",
    "    except:\n",
    "        continue\n",
    "a = pd.Series(a, name = 'Time')\n",
    "a"
   ]
  },
  {
   "cell_type": "code",
   "execution_count": 13,
   "metadata": {},
   "outputs": [],
   "source": [
    "# Sort_values\n",
    "t = pd.DataFrame(a)\n",
    "t = t.sort_values(by = 'Time',ascending=False)"
   ]
  },
  {
   "cell_type": "code",
   "execution_count": 14,
   "metadata": {},
   "outputs": [
    {
     "data": {
      "text/html": [
       "<div>\n",
       "<style scoped>\n",
       "    .dataframe tbody tr th:only-of-type {\n",
       "        vertical-align: middle;\n",
       "    }\n",
       "\n",
       "    .dataframe tbody tr th {\n",
       "        vertical-align: top;\n",
       "    }\n",
       "\n",
       "    .dataframe thead th {\n",
       "        text-align: right;\n",
       "    }\n",
       "</style>\n",
       "<table border=\"1\" class=\"dataframe\">\n",
       "  <thead>\n",
       "    <tr style=\"text-align: right;\">\n",
       "      <th></th>\n",
       "      <th>Time</th>\n",
       "    </tr>\n",
       "    <tr>\n",
       "      <th>Time</th>\n",
       "      <th></th>\n",
       "    </tr>\n",
       "  </thead>\n",
       "  <tbody>\n",
       "    <tr>\n",
       "      <th>2013-10-01</th>\n",
       "      <td>1</td>\n",
       "    </tr>\n",
       "    <tr>\n",
       "      <th>2013-12-01</th>\n",
       "      <td>2</td>\n",
       "    </tr>\n",
       "    <tr>\n",
       "      <th>2014-02-01</th>\n",
       "      <td>3</td>\n",
       "    </tr>\n",
       "    <tr>\n",
       "      <th>2014-03-01</th>\n",
       "      <td>5</td>\n",
       "    </tr>\n",
       "    <tr>\n",
       "      <th>2014-04-01</th>\n",
       "      <td>2</td>\n",
       "    </tr>\n",
       "    <tr>\n",
       "      <th>...</th>\n",
       "      <td>...</td>\n",
       "    </tr>\n",
       "    <tr>\n",
       "      <th>2021-11-01</th>\n",
       "      <td>33</td>\n",
       "    </tr>\n",
       "    <tr>\n",
       "      <th>2021-12-01</th>\n",
       "      <td>34</td>\n",
       "    </tr>\n",
       "    <tr>\n",
       "      <th>2022-01-01</th>\n",
       "      <td>19</td>\n",
       "    </tr>\n",
       "    <tr>\n",
       "      <th>2022-02-01</th>\n",
       "      <td>21</td>\n",
       "    </tr>\n",
       "    <tr>\n",
       "      <th>2022-03-01</th>\n",
       "      <td>28</td>\n",
       "    </tr>\n",
       "  </tbody>\n",
       "</table>\n",
       "<p>96 rows × 1 columns</p>\n",
       "</div>"
      ],
      "text/plain": [
       "            Time\n",
       "Time            \n",
       "2013-10-01     1\n",
       "2013-12-01     2\n",
       "2014-02-01     3\n",
       "2014-03-01     5\n",
       "2014-04-01     2\n",
       "...          ...\n",
       "2021-11-01    33\n",
       "2021-12-01    34\n",
       "2022-01-01    19\n",
       "2022-02-01    21\n",
       "2022-03-01    28\n",
       "\n",
       "[96 rows x 1 columns]"
      ]
     },
     "execution_count": 14,
     "metadata": {},
     "output_type": "execute_result"
    }
   ],
   "source": [
    "# Đếm số bình luận của từng tháng\n",
    "x = t.groupby('Time')['Time'].count()\n",
    "x = pd.DataFrame(x)\n",
    "x"
   ]
  },
  {
   "cell_type": "markdown",
   "metadata": {},
   "source": [
    "###### Biểu đồ Line"
   ]
  },
  {
   "cell_type": "code",
   "execution_count": 16,
   "metadata": {},
   "outputs": [
    {
     "data": {
      "text/plain": [
       "Text(0, 0.5, 'Comment')"
      ]
     },
     "execution_count": 16,
     "metadata": {},
     "output_type": "execute_result"
    },
    {
     "data": {
      "text/plain": [
       "<Figure size 576x576 with 0 Axes>"
      ]
     },
     "metadata": {},
     "output_type": "display_data"
    },
    {
     "data": {
      "image/png": "[encoded data removed]",
      "text/plain": [
       "<Figure size 576x396 with 1 Axes>"
      ]
     },
     "metadata": {},
     "output_type": "display_data"
    }
   ],
   "source": [
    "plt.figure(figsize=(8, 8))\n",
    "plt.style.use('seaborn')\n",
    "x.plot()\n",
    "plt.xticks(rotation = 0, fontsize=10)\n",
    "plt.xticks(fontsize=10)\n",
    "plt.xlabel('Year', fontsize=15)\n",
    "plt.ylabel('Comment', fontsize=15)"
   ]
  },
  {
   "cell_type": "markdown",
   "metadata": {},
   "source": [
    "- Ở đây ta có thể thấy, Hà Nội là thủ đô của nước Việt Nam. Theo lẽ thường thì số người đến du lịch ở đây và bình luận về khách sạn họ ở lại phải nhiều. Nhưng ta có thể thấy từ giữa năm 2013 đến tháng 6 năm 2017 số người bình luận là rất ít.<br>\n",
    "- Điều này có nghĩa lúc bấy giờ du lịch vẫn theo hướng tự phát, không có kế hoạch cụ thể, đa số thông qua người quen để đặt phòng khách sạn chứ không có dựa vào web môi giới (ở đây sử dụng web **Tripadvisor** để phân tích) để đặt phòng khách sạn để đặt phòng khách sạn hợp lí. <br>\n",
    "- Từ tháng 6 năm 2017 đến tháng 7 năm 2019 ta có thể thấy số khách du lịch sử dụng web môi giới Tripadvisor để đặt phòng ngày càng tăng. Hay nói cách khác, các khách du lịch ngày càng biết sử dụng khoa học công nghệ để tìm ra khách sạn nào phù hợp với nhu cầu du lịch, điều kiện kinh tế của bản thân. <br>\n",
    "- Thế nhưng, dựa vào biểu đồ ta có thể thấy, từ cuối năm 2019, với sự xuất hiện của dịch Covid-19, số người bình luận về khách sạn họ ở hay nói cách khác là khách đi du lịch ngày càng giảm. Và giảm mạnh nhất vào tháng 2 2021 khi dịch bệnh bùng phát mạnh mẽ ở thủ đô Hà Nội và tình trạng đó kéo dài cho đến nay.\n"
   ]
  },
  {
   "cell_type": "markdown",
   "metadata": {},
   "source": [
    "## Phân tích Linear để dự đoán giá phòng khách sạn"
   ]
  },
  {
   "cell_type": "code",
   "execution_count": null,
   "metadata": {},
   "outputs": [],
   "source": []
  },
  {
   "cell_type": "code",
   "execution_count": 2,
   "metadata": {},
   "outputs": [],
   "source": [
    "df_info = pd.read_csv('Hanoi_Infor.csv')"
   ]
  },
  {
   "cell_type": "code",
   "execution_count": 56,
   "metadata": {},
   "outputs": [],
   "source": [
    "df_1 = df_info.dropna()\n",
    "df_2 = df_1.copy()\n",
    "df_2 = df_2.reset_index(drop = True)"
   ]
  },
  {
   "cell_type": "code",
   "execution_count": 57,
   "metadata": {},
   "outputs": [],
   "source": [
    "df_2.head(5)\n",
    "df_2.index.names = ['index']\n",
    "x = []\n",
    "for i in range(0, 235):\n",
    "    a = i + 1\n",
    "    x.append(a)\n",
    "df_2.insert(0, 'Number', pd.Series(x), allow_duplicates=False)\n"
   ]
  },
  {
   "cell_type": "code",
   "execution_count": 58,
   "metadata": {
    "scrolled": true
   },
   "outputs": [],
   "source": [
    "df_2['HPMax'] = df_2['HPMax'].str.replace(r'$','')\n",
    "df_2['HPMin'] = df_2['HPMin'].str.replace(r'$','')"
   ]
  },
  {
   "cell_type": "code",
   "execution_count": 59,
   "metadata": {},
   "outputs": [
    {
     "data": {
      "text/html": [
       "<div>\n",
       "<style scoped>\n",
       "    .dataframe tbody tr th:only-of-type {\n",
       "        vertical-align: middle;\n",
       "    }\n",
       "\n",
       "    .dataframe tbody tr th {\n",
       "        vertical-align: top;\n",
       "    }\n",
       "\n",
       "    .dataframe thead th {\n",
       "        text-align: right;\n",
       "    }\n",
       "</style>\n",
       "<table border=\"1\" class=\"dataframe\">\n",
       "  <thead>\n",
       "    <tr style=\"text-align: right;\">\n",
       "      <th></th>\n",
       "      <th>Number</th>\n",
       "      <th>HAddress</th>\n",
       "      <th>HAttractions</th>\n",
       "      <th>HGFW</th>\n",
       "      <th>HImages</th>\n",
       "      <th>HLanguage</th>\n",
       "      <th>HName</th>\n",
       "      <th>HPMax</th>\n",
       "      <th>HPMin</th>\n",
       "      <th>HPRange</th>\n",
       "      <th>...</th>\n",
       "      <th>HRNumber</th>\n",
       "      <th>HRank</th>\n",
       "      <th>HRankreview</th>\n",
       "      <th>HRating</th>\n",
       "      <th>HRestaurants</th>\n",
       "      <th>HReview</th>\n",
       "      <th>HRoom</th>\n",
       "      <th>HStyles</th>\n",
       "      <th>HVideos</th>\n",
       "      <th>URL</th>\n",
       "    </tr>\n",
       "    <tr>\n",
       "      <th>index</th>\n",
       "      <th></th>\n",
       "      <th></th>\n",
       "      <th></th>\n",
       "      <th></th>\n",
       "      <th></th>\n",
       "      <th></th>\n",
       "      <th></th>\n",
       "      <th></th>\n",
       "      <th></th>\n",
       "      <th></th>\n",
       "      <th></th>\n",
       "      <th></th>\n",
       "      <th></th>\n",
       "      <th></th>\n",
       "      <th></th>\n",
       "      <th></th>\n",
       "      <th></th>\n",
       "      <th></th>\n",
       "      <th></th>\n",
       "      <th></th>\n",
       "      <th></th>\n",
       "    </tr>\n",
       "  </thead>\n",
       "  <tbody>\n",
       "    <tr>\n",
       "      <th>0</th>\n",
       "      <td>1</td>\n",
       "      <td>18 Bao Khanh Lane Hoan Kiem, Hanoi 10000 Vietnam</td>\n",
       "      <td>188.0</td>\n",
       "      <td>100.0</td>\n",
       "      <td>158.0</td>\n",
       "      <td>English, Chinese, Japanese, Vietnamese</td>\n",
       "      <td>Sunline Hotel</td>\n",
       "      <td>56</td>\n",
       "      <td>29</td>\n",
       "      <td>$29, - ,$56</td>\n",
       "      <td>...</td>\n",
       "      <td>341</td>\n",
       "      <td>#128 of 704 hotels in Hanoi</td>\n",
       "      <td>4.5</td>\n",
       "      <td>3.5 of 5 bubbles</td>\n",
       "      <td>566.0</td>\n",
       "      <td>Excellent</td>\n",
       "      <td>32</td>\n",
       "      <td>Classic,Quiet</td>\n",
       "      <td>24.0</td>\n",
       "      <td>https://www.tripadvisor.com/Hotel_Review-g2939...</td>\n",
       "    </tr>\n",
       "    <tr>\n",
       "      <th>1</th>\n",
       "      <td>2</td>\n",
       "      <td>76 Yen Phu Street Tay Ho District, Hanoi 10000...</td>\n",
       "      <td>2.0</td>\n",
       "      <td>82.0</td>\n",
       "      <td>197.0</td>\n",
       "      <td>English, Chinese, Vietnamese</td>\n",
       "      <td>The Hanoi Club Hotel &amp; Residences</td>\n",
       "      <td>110</td>\n",
       "      <td>58</td>\n",
       "      <td>$58, - ,$110</td>\n",
       "      <td>...</td>\n",
       "      <td>345</td>\n",
       "      <td>#194 of 704 hotels in Hanoi</td>\n",
       "      <td>4.0</td>\n",
       "      <td>4.0 of 5 bubbles</td>\n",
       "      <td>37.0</td>\n",
       "      <td>Very good</td>\n",
       "      <td>140</td>\n",
       "      <td>Lake View</td>\n",
       "      <td>1.0</td>\n",
       "      <td>https://www.tripadvisor.com/Hotel_Review-g2939...</td>\n",
       "    </tr>\n",
       "    <tr>\n",
       "      <th>2</th>\n",
       "      <td>3</td>\n",
       "      <td>62 Hang Be Hoan Kiem Dist, Hanoi 10000 Vietnam</td>\n",
       "      <td>166.0</td>\n",
       "      <td>100.0</td>\n",
       "      <td>139.0</td>\n",
       "      <td>English, Vietnamese</td>\n",
       "      <td>Au Coeur d'Hanoi Boutique Hotel</td>\n",
       "      <td>61</td>\n",
       "      <td>41</td>\n",
       "      <td>$41, - ,$61</td>\n",
       "      <td>...</td>\n",
       "      <td>349</td>\n",
       "      <td>#93 of 704 hotels in Hanoi</td>\n",
       "      <td>5.0</td>\n",
       "      <td>3.0 of 5 bubbles</td>\n",
       "      <td>581.0</td>\n",
       "      <td>Excellent</td>\n",
       "      <td>25</td>\n",
       "      <td>City View</td>\n",
       "      <td>16.0</td>\n",
       "      <td>https://www.tripadvisor.com/Hotel_Review-g2939...</td>\n",
       "    </tr>\n",
       "  </tbody>\n",
       "</table>\n",
       "<p>3 rows × 22 columns</p>\n",
       "</div>"
      ],
      "text/plain": [
       "       Number                                           HAddress  \\\n",
       "index                                                              \n",
       "0           1   18 Bao Khanh Lane Hoan Kiem, Hanoi 10000 Vietnam   \n",
       "1           2  76 Yen Phu Street Tay Ho District, Hanoi 10000...   \n",
       "2           3     62 Hang Be Hoan Kiem Dist, Hanoi 10000 Vietnam   \n",
       "\n",
       "       HAttractions   HGFW  HImages                               HLanguage  \\\n",
       "index                                                                         \n",
       "0             188.0  100.0    158.0  English, Chinese, Japanese, Vietnamese   \n",
       "1               2.0   82.0    197.0            English, Chinese, Vietnamese   \n",
       "2             166.0  100.0    139.0                     English, Vietnamese   \n",
       "\n",
       "                                   HName HPMax HPMin       HPRange  ...  \\\n",
       "index                                                               ...   \n",
       "0                          Sunline Hotel   56    29    $29, - ,$56  ...   \n",
       "1      The Hanoi Club Hotel & Residences  110    58   $58, - ,$110  ...   \n",
       "2        Au Coeur d'Hanoi Boutique Hotel   61    41    $41, - ,$61  ...   \n",
       "\n",
       "      HRNumber                        HRank HRankreview           HRating  \\\n",
       "index                                                                       \n",
       "0          341  #128 of 704 hotels in Hanoi         4.5  3.5 of 5 bubbles   \n",
       "1          345  #194 of 704 hotels in Hanoi         4.0  4.0 of 5 bubbles   \n",
       "2          349   #93 of 704 hotels in Hanoi         5.0  3.0 of 5 bubbles   \n",
       "\n",
       "       HRestaurants    HReview  HRoom        HStyles HVideos  \\\n",
       "index                                                          \n",
       "0             566.0  Excellent     32  Classic,Quiet    24.0   \n",
       "1              37.0  Very good    140      Lake View     1.0   \n",
       "2             581.0  Excellent     25      City View    16.0   \n",
       "\n",
       "                                                     URL  \n",
       "index                                                     \n",
       "0      https://www.tripadvisor.com/Hotel_Review-g2939...  \n",
       "1      https://www.tripadvisor.com/Hotel_Review-g2939...  \n",
       "2      https://www.tripadvisor.com/Hotel_Review-g2939...  \n",
       "\n",
       "[3 rows x 22 columns]"
      ]
     },
     "execution_count": 59,
     "metadata": {},
     "output_type": "execute_result"
    }
   ],
   "source": [
    "df_2.head(3)"
   ]
  },
  {
   "cell_type": "code",
   "execution_count": 60,
   "metadata": {},
   "outputs": [
    {
     "name": "stderr",
     "output_type": "stream",
     "text": [
      "C:\\Users\\PC\\anaconda3\\lib\\site-packages\\pandas\\core\\indexing.py:670: SettingWithCopyWarning: \n",
      "A value is trying to be set on a copy of a slice from a DataFrame\n",
      "\n",
      "See the caveats in the documentation: https://pandas.pydata.org/pandas-docs/stable/user_guide/indexing.html#returning-a-view-versus-a-copy\n",
      "  iloc._setitem_with_indexer(indexer, value)\n"
     ]
    }
   ],
   "source": [
    "for i in range(len(df_2['HPMax'])):\n",
    "    try:\n",
    "        if type(df_2['HPMax'].iloc[i]) == str:\n",
    "            df_2['HPMax'].iloc[i] = float(df_2['HPMax'].iloc[i])\n",
    "    except:\n",
    "        continue    "
   ]
  },
  {
   "cell_type": "code",
   "execution_count": 61,
   "metadata": {},
   "outputs": [],
   "source": [
    "df_2['HPMax'] = df_2['HPMax'].astype('float64') "
   ]
  },
  {
   "cell_type": "code",
   "execution_count": 62,
   "metadata": {},
   "outputs": [
    {
     "data": {
      "text/html": [
       "<div>\n",
       "<style scoped>\n",
       "    .dataframe tbody tr th:only-of-type {\n",
       "        vertical-align: middle;\n",
       "    }\n",
       "\n",
       "    .dataframe tbody tr th {\n",
       "        vertical-align: top;\n",
       "    }\n",
       "\n",
       "    .dataframe thead th {\n",
       "        text-align: right;\n",
       "    }\n",
       "</style>\n",
       "<table border=\"1\" class=\"dataframe\">\n",
       "  <thead>\n",
       "    <tr style=\"text-align: right;\">\n",
       "      <th></th>\n",
       "      <th>Number</th>\n",
       "      <th>HAttractions</th>\n",
       "      <th>HGFW</th>\n",
       "      <th>HImages</th>\n",
       "      <th>HPMax</th>\n",
       "      <th>HRImages</th>\n",
       "      <th>HRankreview</th>\n",
       "      <th>HRestaurants</th>\n",
       "      <th>HVideos</th>\n",
       "    </tr>\n",
       "  </thead>\n",
       "  <tbody>\n",
       "    <tr>\n",
       "      <th>count</th>\n",
       "      <td>235.000000</td>\n",
       "      <td>235.000000</td>\n",
       "      <td>235.000000</td>\n",
       "      <td>235.000000</td>\n",
       "      <td>235.000000</td>\n",
       "      <td>235.000000</td>\n",
       "      <td>235.000000</td>\n",
       "      <td>235.000000</td>\n",
       "      <td>235.000000</td>\n",
       "    </tr>\n",
       "    <tr>\n",
       "      <th>mean</th>\n",
       "      <td>118.000000</td>\n",
       "      <td>105.872340</td>\n",
       "      <td>94.072340</td>\n",
       "      <td>151.676596</td>\n",
       "      <td>82.723404</td>\n",
       "      <td>43.331915</td>\n",
       "      <td>16.940426</td>\n",
       "      <td>369.978723</td>\n",
       "      <td>32.595745</td>\n",
       "    </tr>\n",
       "    <tr>\n",
       "      <th>std</th>\n",
       "      <td>67.982841</td>\n",
       "      <td>70.801159</td>\n",
       "      <td>12.762085</td>\n",
       "      <td>178.701984</td>\n",
       "      <td>92.085129</td>\n",
       "      <td>55.860178</td>\n",
       "      <td>18.714472</td>\n",
       "      <td>219.190711</td>\n",
       "      <td>58.113380</td>\n",
       "    </tr>\n",
       "    <tr>\n",
       "      <th>min</th>\n",
       "      <td>1.000000</td>\n",
       "      <td>0.000000</td>\n",
       "      <td>37.000000</td>\n",
       "      <td>1.000000</td>\n",
       "      <td>1.000000</td>\n",
       "      <td>1.000000</td>\n",
       "      <td>2.000000</td>\n",
       "      <td>13.000000</td>\n",
       "      <td>1.000000</td>\n",
       "    </tr>\n",
       "    <tr>\n",
       "      <th>25%</th>\n",
       "      <td>59.500000</td>\n",
       "      <td>33.000000</td>\n",
       "      <td>97.000000</td>\n",
       "      <td>33.000000</td>\n",
       "      <td>36.500000</td>\n",
       "      <td>11.000000</td>\n",
       "      <td>4.500000</td>\n",
       "      <td>168.000000</td>\n",
       "      <td>4.000000</td>\n",
       "    </tr>\n",
       "    <tr>\n",
       "      <th>50%</th>\n",
       "      <td>118.000000</td>\n",
       "      <td>134.000000</td>\n",
       "      <td>100.000000</td>\n",
       "      <td>92.000000</td>\n",
       "      <td>62.000000</td>\n",
       "      <td>27.000000</td>\n",
       "      <td>5.000000</td>\n",
       "      <td>401.000000</td>\n",
       "      <td>12.000000</td>\n",
       "    </tr>\n",
       "    <tr>\n",
       "      <th>75%</th>\n",
       "      <td>176.500000</td>\n",
       "      <td>159.000000</td>\n",
       "      <td>100.000000</td>\n",
       "      <td>196.000000</td>\n",
       "      <td>93.000000</td>\n",
       "      <td>55.000000</td>\n",
       "      <td>40.000000</td>\n",
       "      <td>531.000000</td>\n",
       "      <td>30.000000</td>\n",
       "    </tr>\n",
       "    <tr>\n",
       "      <th>max</th>\n",
       "      <td>235.000000</td>\n",
       "      <td>238.000000</td>\n",
       "      <td>100.000000</td>\n",
       "      <td>1184.000000</td>\n",
       "      <td>793.000000</td>\n",
       "      <td>468.000000</td>\n",
       "      <td>50.000000</td>\n",
       "      <td>1027.000000</td>\n",
       "      <td>380.000000</td>\n",
       "    </tr>\n",
       "  </tbody>\n",
       "</table>\n",
       "</div>"
      ],
      "text/plain": [
       "           Number  HAttractions        HGFW      HImages       HPMax  \\\n",
       "count  235.000000    235.000000  235.000000   235.000000  235.000000   \n",
       "mean   118.000000    105.872340   94.072340   151.676596   82.723404   \n",
       "std     67.982841     70.801159   12.762085   178.701984   92.085129   \n",
       "min      1.000000      0.000000   37.000000     1.000000    1.000000   \n",
       "25%     59.500000     33.000000   97.000000    33.000000   36.500000   \n",
       "50%    118.000000    134.000000  100.000000    92.000000   62.000000   \n",
       "75%    176.500000    159.000000  100.000000   196.000000   93.000000   \n",
       "max    235.000000    238.000000  100.000000  1184.000000  793.000000   \n",
       "\n",
       "         HRImages  HRankreview  HRestaurants     HVideos  \n",
       "count  235.000000   235.000000    235.000000  235.000000  \n",
       "mean    43.331915    16.940426    369.978723   32.595745  \n",
       "std     55.860178    18.714472    219.190711   58.113380  \n",
       "min      1.000000     2.000000     13.000000    1.000000  \n",
       "25%     11.000000     4.500000    168.000000    4.000000  \n",
       "50%     27.000000     5.000000    401.000000   12.000000  \n",
       "75%     55.000000    40.000000    531.000000   30.000000  \n",
       "max    468.000000    50.000000   1027.000000  380.000000  "
      ]
     },
     "execution_count": 62,
     "metadata": {},
     "output_type": "execute_result"
    }
   ],
   "source": [
    "df_2.describe()"
   ]
  },
  {
   "cell_type": "code",
   "execution_count": 63,
   "metadata": {},
   "outputs": [
    {
     "data": {
      "text/plain": [
       "[<matplotlib.lines.Line2D at 0x1ef0cecf280>]"
      ]
     },
     "execution_count": 63,
     "metadata": {},
     "output_type": "execute_result"
    },
    {
     "data": {
      "image/png": "[encoded data removed]",
      "text/plain": [
       "<Figure size 432x288 with 1 Axes>"
      ]
     },
     "metadata": {
      "needs_background": "light"
     },
     "output_type": "display_data"
    }
   ],
   "source": [
    "x = df_2[\"Number\"]\n",
    "y = df_2[['HPMax']]\n",
    "plt.plot(x,y,'go')"
   ]
  },
  {
   "cell_type": "code",
   "execution_count": 64,
   "metadata": {},
   "outputs": [
    {
     "data": {
      "text/plain": [
       "index\n",
       "0       56.0\n",
       "1      110.0\n",
       "2       61.0\n",
       "3       57.0\n",
       "4       96.0\n",
       "       ...  \n",
       "230    266.0\n",
       "231     91.0\n",
       "232     31.0\n",
       "233     72.0\n",
       "234     37.0\n",
       "Name: HPMax, Length: 235, dtype: float64"
      ]
     },
     "execution_count": 64,
     "metadata": {},
     "output_type": "execute_result"
    }
   ],
   "source": [
    "names = ['HAttractions','HGFW','HImages','HRImages','HRankreview', 'HRestaurants','HVideos']\n",
    "X_train = df_2[names]\n",
    "X_train\n",
    "Y_train= df_2['HPMax']\n",
    "Y_train"
   ]
  },
  {
   "cell_type": "code",
   "execution_count": 65,
   "metadata": {},
   "outputs": [],
   "source": [
    "from sklearn.linear_model import LinearRegression\n",
    "reg = LinearRegression().fit(X_train,Y_train)"
   ]
  },
  {
   "cell_type": "code",
   "execution_count": 66,
   "metadata": {},
   "outputs": [
    {
     "data": {
      "text/plain": [
       "array([ 0.02779731, -0.88890879,  0.21408144, -0.08225084, -0.12601225,\n",
       "        0.04584283, -0.23180841])"
      ]
     },
     "execution_count": 66,
     "metadata": {},
     "output_type": "execute_result"
    }
   ],
   "source": [
    "reg.coef_"
   ]
  },
  {
   "cell_type": "code",
   "execution_count": 67,
   "metadata": {},
   "outputs": [
    {
     "data": {
      "text/plain": [
       "127.22490736202522"
      ]
     },
     "execution_count": 67,
     "metadata": {},
     "output_type": "execute_result"
    }
   ],
   "source": [
    "reg.intercept_"
   ]
  },
  {
   "cell_type": "code",
   "execution_count": 95,
   "metadata": {},
   "outputs": [
    {
     "data": {
      "text/plain": [
       "array([ 56., 110.,  61.,  57.,  96.,  72.,  26., 157.,  39.,  87., 144.,\n",
       "        47.,  73.,  53.,  78., 130.,  79., 186.,  60.,  80.,  80.,  40.,\n",
       "       207., 105.,  92.,  23.,  49.,  62.,  57.,  44.,  37., 397.,  27.,\n",
       "        45.,  18.,  79.,  79., 124.,  77.,  84., 143.,  25., 303.,  85.,\n",
       "       144.,  71.,  68., 706.,  52.,  60.,  52., 187., 215., 151.,  50.,\n",
       "       131.,  26.,  76.,  47., 126., 119., 263.,  40., 128.,  36.,  77.,\n",
       "        80., 102.,  72.,  28.,  91.,  72.,  17., 688.,  65., 140.,  92.,\n",
       "       151., 136., 104.,  98.,  99., 145., 120., 114., 112., 200.,  62.,\n",
       "       259.,  68.,  46.,  96.,  31.,  20.,  11.,  88.,  24.,  28.,  47.,\n",
       "        29., 115.,  36.,  55.,  92.,  28.,   1.,  32.,  29.,  39.,  54.,\n",
       "        23.,  81., 144., 128.,  43.,  71.,  60.,  50.,  26.,  45.,  40.,\n",
       "        11.,  35.,  60.,  42.,  56.,  80.,  51.,  60.,  44.,  91.,  64.,\n",
       "        11.,  60.,  39.,  15.,  50.,  16., 148.,  68.,  88.,  32.,  63.,\n",
       "        23.,  26.,  77.,  86.,  76., 109., 131.,  77.,  92., 125.,  15.,\n",
       "        23.,  41., 170.,  85.,  41.,  34.,  76., 179.,  97.,  24., 103.,\n",
       "        28.,  27.,  23.,  71.,  22.,  25., 224.,  49.,  66.,  64.,  77.,\n",
       "        18.,  71.,  34.,  94., 793.,  30.,  26.,  32.,  29., 128.,  72.,\n",
       "       141.,  31., 113., 199.,  55.,  19.,  59.,  18.,  39.,  34.,  19.,\n",
       "        16.,  37.,  60.,  50.,  37.,  49.,  87.,  77.,  25.,  69.,  48.,\n",
       "         7.,  27.,  44.,  26.,  70.,  28., 106.,  66.,  27.,  41.,  52.,\n",
       "        64.,  32., 100.,  55.,  43.,  65.,  88., 156.,  81.,  61., 266.,\n",
       "        91.,  31.,  72.,  37.])"
      ]
     },
     "execution_count": 95,
     "metadata": {},
     "output_type": "execute_result"
    }
   ],
   "source": [
    "x_test = X_train\n",
    "y_predict=reg.predict(x_test)\n",
    "y_predict\n",
    "Y_train = np.array(Y_train)\n",
    "Y_train"
   ]
  },
  {
   "cell_type": "code",
   "execution_count": 94,
   "metadata": {
    "scrolled": true
   },
   "outputs": [
    {
     "data": {
      "image/png": "[encoded data removed]",
      "text/plain": [
       "<Figure size 432x288 with 1 Axes>"
      ]
     },
     "metadata": {},
     "output_type": "display_data"
    }
   ],
   "source": [
    "# Xanh là giá trị dự đoán\n",
    "# Đen là giá trị thực tế\n",
    "plt.scatter(x,y,  color='black')\n",
    "plt.plot(y_predict, color='blue', linewidth=3)\n",
    "plt.xticks(())\n",
    "plt.yticks(())\n",
    "plt.show()"
   ]
  },
  {
   "cell_type": "code",
   "execution_count": 99,
   "metadata": {},
   "outputs": [
    {
     "data": {
      "text/plain": [
       "7587.567431783166"
      ]
     },
     "execution_count": 99,
     "metadata": {},
     "output_type": "execute_result"
    }
   ],
   "source": [
    "from sklearn.metrics import mean_squared_error\n",
    "mean_squared_error(Y_train, y_predict)"
   ]
  },
  {
   "cell_type": "code",
   "execution_count": null,
   "metadata": {},
   "outputs": [],
   "source": []
  },
  {
   "cell_type": "code",
   "execution_count": null,
   "metadata": {},
   "outputs": [],
   "source": []
  }
 ],
 "metadata": {
  "kernelspec": {
   "display_name": "Python 3",
   "language": "python",
   "name": "python3"
  },
  "language_info": {
   "codemirror_mode": {
    "name": "ipython",
    "version": 3
   },
   "file_extension": ".py",
   "mimetype": "text/x-python",
   "name": "python",
   "nbconvert_exporter": "python",
   "pygments_lexer": "ipython3",
   "version": "3.8.5"
  }
 },
 "nbformat": 4,
 "nbformat_minor": 4
}
